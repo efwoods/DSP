{
 "cells": [
  {
   "cell_type": "code",
   "execution_count": 249,
   "metadata": {},
   "outputs": [],
   "source": [
    "import requests\n",
    "from bs4 import BeautifulSoup\n",
    "import csv"
   ]
  },
  {
   "cell_type": "code",
   "execution_count": 259,
   "metadata": {},
   "outputs": [
    {
     "name": "stdout",
     "output_type": "stream",
     "text": [
      "Grabbing... https://r4ds.had.co.nz/index.html\n",
      "https://r4ds.had.co.nz/index.html\n",
      "Status is 200\n"
     ]
    }
   ],
   "source": [
    "import requests\n",
    "from bs4 import BeautifulSoup\n",
    "import csv\n",
    "\n",
    "my_url = \"https://r4ds.had.co.nz/index.html\"\n",
    "# create a csv file\n",
    "csvfile = open('eggs_sections.csv','w', newline='')\n",
    "# create a writer to convert data into delimited strings\n",
    "eggwriter = csv.writer(csvfile)\n",
    "\n",
    "no_error = True\n",
    "\n",
    "url = my_url\n",
    "print(\"Grabbing...\", url)\n",
    "response = requests.get(url, allow_redirects=False)\n",
    "print(response.url)\n",
    "print(\"Status is\", response.status_code)\n",
    "\n",
    "html = response.text\n",
    "\n",
    "soup = BeautifulSoup(html, \"html.parser\")\n",
    "\n",
    "items_soup = soup.find_all('ul', attrs={'class':'book-toc list-unstyled'})\n",
    "items = items_soup[0]\n",
    "sections = items.find_all(\"li\", attrs={\"class\":\"book-part\"})\n",
    "chapters = items.find_all(\"li\", attrs={\"class\":\"\"})\n",
    "\n",
    "eggwriter.writerow([\"Sections\"])\n",
    "for i in range(len(sections)):\n",
    "    section = sections[i].text\n",
    "    eggwriter.writerow([section])\n",
    "\n",
    "csvfile.close()\n",
    "\n",
    "csvfile = open('eggs_chapters.csv','w', newline='')\n",
    "# modify writer \n",
    "chapters_eggwriter = csv.writer(csvfile)\n",
    "\n",
    "# Header\n",
    "chapters_eggwriter.writerow([\"Chapters\"])\n",
    "for i in range(len(chapters)):\n",
    "    chapter = chapters[i].text\n",
    "    chapters_eggwriter.writerow([chapter])\n"
   ]
  }
 ],
 "metadata": {
  "kernelspec": {
   "display_name": "base",
   "language": "python",
   "name": "python3"
  },
  "language_info": {
   "codemirror_mode": {
    "name": "ipython",
    "version": 3
   },
   "file_extension": ".py",
   "mimetype": "text/x-python",
   "name": "python",
   "nbconvert_exporter": "python",
   "pygments_lexer": "ipython3",
   "version": "3.11.5"
  }
 },
 "nbformat": 4,
 "nbformat_minor": 2
}
