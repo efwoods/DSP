{
 "cells": [
  {
   "cell_type": "code",
   "execution_count": 5,
   "metadata": {},
   "outputs": [],
   "source": [
    "import requests\n",
    "from bs4 import BeautifulSoup\n",
    "import csv"
   ]
  },
  {
   "cell_type": "code",
   "execution_count": 6,
   "metadata": {},
   "outputs": [
    {
     "name": "stdout",
     "output_type": "stream",
     "text": [
      "Grabbing... https://r4ds.had.co.nz/index.html\n",
      "https://r4ds.had.co.nz/index.html\n",
      "Status is 200\n"
     ]
    }
   ],
   "source": [
    "import requests\n",
    "from bs4 import BeautifulSoup\n",
    "import csv\n",
    "\n",
    "my_url = \"https://r4ds.had.co.nz/index.html\"\n",
    "# create a csv file\n",
    "csvfile = open('eggs_sections.csv','w', newline='')\n",
    "# create a writer to convert data into delimited strings\n",
    "eggwriter = csv.writer(csvfile)\n",
    "\n",
    "no_error = True\n",
    "\n",
    "url = my_url\n",
    "print(\"Grabbing...\", url)\n",
    "response = requests.get(url, allow_redirects=False)\n",
    "print(response.url)\n",
    "print(\"Status is\", response.status_code)\n",
    "\n",
    "html = response.text\n",
    "\n",
    "soup = BeautifulSoup(html, \"html.parser\")\n",
    "\n",
    "items_soup = soup.find_all('ul', attrs={'class':'book-toc list-unstyled'})\n",
    "items = items_soup[0]\n",
    "sections = items.find_all(\"li\", attrs={\"class\":\"book-part\"})\n",
    "chapters = items.find_all(\"li\", attrs={\"class\":\"\"})\n",
    "\n",
    "eggwriter.writerow([\"Sections\"])\n",
    "for i in range(len(sections)):\n",
    "    section = sections[i].text\n",
    "    eggwriter.writerow([section])\n",
    "\n",
    "csvfile.close()\n",
    "\n",
    "csvfile = open('eggs_chapters.csv','w', newline='')\n",
    "# modify writer \n",
    "chapters_eggwriter = csv.writer(csvfile)\n",
    "\n",
    "# Header\n",
    "chapters_eggwriter.writerow([\"Chapters\"])\n",
    "for i in range(len(chapters)):\n",
    "    chapter = chapters[i].text\n",
    "    chapters_eggwriter.writerow([chapter])\n"
   ]
  },
  {
   "cell_type": "code",
   "execution_count": 8,
   "metadata": {},
   "outputs": [
    {
     "ename": "ValueError",
     "evalue": "I/O operation on closed file.",
     "output_type": "error",
     "traceback": [
      "\u001b[0;31m---------------------------------------------------------------------------\u001b[0m",
      "\u001b[0;31mValueError\u001b[0m                                Traceback (most recent call last)",
      "Cell \u001b[0;32mIn[8], line 6\u001b[0m\n\u001b[1;32m      3\u001b[0m sections \u001b[38;5;241m=\u001b[39m items\u001b[38;5;241m.\u001b[39mfind_all(\u001b[38;5;124m\"\u001b[39m\u001b[38;5;124mli\u001b[39m\u001b[38;5;124m\"\u001b[39m, attrs\u001b[38;5;241m=\u001b[39m{\u001b[38;5;124m\"\u001b[39m\u001b[38;5;124mclass\u001b[39m\u001b[38;5;124m\"\u001b[39m:\u001b[38;5;124m\"\u001b[39m\u001b[38;5;124mbook-part\u001b[39m\u001b[38;5;124m\"\u001b[39m})\n\u001b[1;32m      4\u001b[0m chapters \u001b[38;5;241m=\u001b[39m items\u001b[38;5;241m.\u001b[39mfind_all(\u001b[38;5;124m\"\u001b[39m\u001b[38;5;124mli\u001b[39m\u001b[38;5;124m\"\u001b[39m, attrs\u001b[38;5;241m=\u001b[39m{\u001b[38;5;124m\"\u001b[39m\u001b[38;5;124mclass\u001b[39m\u001b[38;5;124m\"\u001b[39m:\u001b[38;5;124m\"\u001b[39m\u001b[38;5;124m\"\u001b[39m})\n\u001b[0;32m----> 6\u001b[0m eggwriter\u001b[38;5;241m.\u001b[39mwriterow([\u001b[38;5;124m\"\u001b[39m\u001b[38;5;124mSections\u001b[39m\u001b[38;5;124m\"\u001b[39m])\n\u001b[1;32m      7\u001b[0m \u001b[38;5;28;01mfor\u001b[39;00m i \u001b[38;5;129;01min\u001b[39;00m \u001b[38;5;28mrange\u001b[39m(\u001b[38;5;28mlen\u001b[39m(sections)):\n\u001b[1;32m      8\u001b[0m     section \u001b[38;5;241m=\u001b[39m sections[i]\u001b[38;5;241m.\u001b[39mtext\n",
      "\u001b[0;31mValueError\u001b[0m: I/O operation on closed file."
     ]
    }
   ],
   "source": [
    "items_soup = soup.find_all('ul', attrs={'class':'book-toc list-unstyled'})\n",
    "items = items_soup[0]\n",
    "sections = items.find_all(\"li\", attrs={\"class\":\"book-part\"})\n",
    "chapters = items.find_all(\"li\", attrs={\"class\":\"\"})\n",
    "\n",
    "eggwriter.writerow([\"Sections\"])\n",
    "for i in range(len(sections)):\n",
    "    section = sections[i].text\n",
    "    eggwriter.writerow([section])\n",
    "\n",
    "csvfile.close()\n",
    "\n",
    "csvfile = open('eggs_chapters.csv','w', newline='')\n",
    "# modify writer \n",
    "chapters_eggwriter = csv.writer(csvfile)\n",
    "\n",
    "# Header\n",
    "chapters_eggwriter.writerow([\"Chapters\"])\n",
    "for i in range(len(chapters)):\n",
    "    chapter = chapters[i].text\n",
    "    chapters_eggwriter.writerow([chapter])\n"
   ]
  }
 ],
 "metadata": {
  "kernelspec": {
   "display_name": "base",
   "language": "python",
   "name": "python3"
  },
  "language_info": {
   "codemirror_mode": {
    "name": "ipython",
    "version": 3
   },
   "file_extension": ".py",
   "mimetype": "text/x-python",
   "name": "python",
   "nbconvert_exporter": "python",
   "pygments_lexer": "ipython3",
   "version": "3.11.5"
  }
 },
 "nbformat": 4,
 "nbformat_minor": 2
}
